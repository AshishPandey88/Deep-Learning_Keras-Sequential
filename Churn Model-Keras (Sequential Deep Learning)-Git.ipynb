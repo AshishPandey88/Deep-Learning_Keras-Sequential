{
 "cells": [
  {
   "cell_type": "code",
   "execution_count": 1,
   "id": "95cdc984",
   "metadata": {},
   "outputs": [],
   "source": [
    "\n",
    "from sklearn.metrics import mean_absolute_error\n",
    "from sklearn.compose import ColumnTransformer\n",
    "from sklearn.pipeline import Pipeline\n",
    "from sklearn.impute import SimpleImputer\n",
    "from sklearn.preprocessing import OneHotEncoder\n",
    "from scipy.stats import randint\n",
    "from sklearn.model_selection import ShuffleSplit\n",
    "from sklearn.model_selection import cross_val_score\n",
    "from sklearn.model_selection import GridSearchCV\n",
    "import matplotlib.pyplot as plt\n",
    "from sklearn.feature_extraction.text import CountVectorizer\n",
    "from sklearn.preprocessing import StandardScaler\n",
    "from sklearn.linear_model import LogisticRegression\n",
    "from sklearn.linear_model import LogisticRegressionCV\n",
    "from sklearn.pipeline import make_pipeline\n",
    "from sklearn.model_selection import train_test_split\n",
    "from sklearn.metrics import accuracy_score\n",
    "from sklearn.ensemble import RandomForestClassifier\n",
    "from sklearn.ensemble import RandomForestRegressor\n",
    "from sklearn.model_selection import RandomizedSearchCV\n",
    "from sklearn.model_selection import cross_validate\n",
    "from sklearn.metrics import recall_score\n",
    "from sklearn.metrics import confusion_matrix\n",
    "from sklearn.metrics import ConfusionMatrixDisplay\n",
    "from sklearn.feature_selection import SelectFromModel\n",
    "from sklearn import svm\n",
    "from sklearn.compose import make_column_transformer\n",
    "from scipy.stats import randint\n",
    "import seaborn as sns\n",
    "from sklearn.decomposition import KernelPCA\n",
    "from sklearn.decomposition import PCA\n",
    "import warnings\n",
    "warnings.filterwarnings('ignore')\n",
    "from sklearn.naive_bayes import GaussianNB\n",
    "from sklearn.svm import SVC\n",
    "from sklearn.datasets import load_digits\n",
    "from sklearn.model_selection import learning_curve\n",
    "#from xgboost import XGBClassifier\n",
    "#from xgboost import XGBRegressor\n",
    "#from mlxtend.preprocessing import DenseTransformer\n",
    "from sklearn.base import BaseEstimator, TransformerMixin\n",
    "from sklearn.metrics import classification_report\n",
    "# MLP for Pima Indians Dataset with 10-fold cross validation via sklearn\n",
    "from keras.models import Sequential\n",
    "from keras.layers import Dense\n",
    "from keras.wrappers.scikit_learn import KerasClassifier\n",
    "from sklearn.model_selection import StratifiedKFold\n"
   ]
  },
  {
   "cell_type": "code",
   "execution_count": 131,
   "id": "f03c2275",
   "metadata": {},
   "outputs": [],
   "source": [
    "import pandas as pd\n",
    "import numpy as np\n",
    "\n",
    "df=pd.read_csv(r'D:\\Python Tutorial\\Churn_Modelling.csv')\n",
    "df = df.groupby('Exited').apply(lambda x: x.sample(frac=1))"
   ]
  },
  {
   "cell_type": "markdown",
   "id": "9bd4d71b",
   "metadata": {},
   "source": [
    "# EDA- Exploratory data analysis"
   ]
  },
  {
   "cell_type": "code",
   "execution_count": 132,
   "id": "75c189f4",
   "metadata": {},
   "outputs": [],
   "source": [
    "df=df.drop(columns=['RowNumber','CustomerId'],axis=1)"
   ]
  },
  {
   "cell_type": "code",
   "execution_count": 133,
   "id": "7aa43ca3",
   "metadata": {},
   "outputs": [],
   "source": [
    "# Remove rows with na\n",
    "df=df.dropna()"
   ]
  },
  {
   "cell_type": "code",
   "execution_count": 134,
   "id": "920542e5",
   "metadata": {},
   "outputs": [],
   "source": [
    "##Convert all features with unique values less than 5 to object\n",
    "def convert_to_object(data):\n",
    "    for i in data.columns:\n",
    "        if data[i].nunique()<5:\n",
    "            data[i]=data[i].astype('str')"
   ]
  },
  {
   "cell_type": "code",
   "execution_count": 135,
   "id": "46e2e6f0",
   "metadata": {},
   "outputs": [],
   "source": [
    "convert_to_object(df)"
   ]
  },
  {
   "cell_type": "code",
   "execution_count": 136,
   "id": "7a4f0702",
   "metadata": {},
   "outputs": [],
   "source": [
    "##Create a function to drop a variable if it is object but nunique>20,\n",
    "##There is something called as \"Pass by value\" in python ad doing df= in the last statement will not alter df\n",
    "##while the same df= in for loop will work\n",
    "#refer https://stackoverflow.com/questions/38895768/python-pandas-dataframe-is-it-pass-by-value-or-pass-by-reference/38925257#38925257\n",
    "#https://stackoverflow.com/questions/70902808/for-loop-inside-a-def-function-not-working/70902856#70902856\n",
    "def drop_object_nunique(data):\n",
    "    for i in data.columns:\n",
    "        if data[i].dtype=='object' and data[i].nunique()>20:\n",
    "            data.drop(columns=[i],axis=1,inplace=True)"
   ]
  },
  {
   "cell_type": "code",
   "execution_count": 137,
   "id": "2f68c193",
   "metadata": {},
   "outputs": [],
   "source": [
    "drop_object_nunique(df)"
   ]
  },
  {
   "cell_type": "markdown",
   "id": "53d8a060",
   "metadata": {},
   "source": [
    "for i in df.columns:\n",
    "    if df[i].dtype=='object' and df[i].nunique()>20:\n",
    "        df=df.drop(columns=[i],axis=1)"
   ]
  },
  {
   "cell_type": "code",
   "execution_count": 138,
   "id": "6fb6140e",
   "metadata": {},
   "outputs": [],
   "source": [
    "X=df.drop(columns=['Exited'],axis=1)\n",
    "y=df['Exited']"
   ]
  },
  {
   "cell_type": "code",
   "execution_count": 139,
   "id": "ab4e9bbc",
   "metadata": {},
   "outputs": [],
   "source": [
    "#train Test split\n",
    "#X_train_full,X_test_full,y_train,y_test=train_test_split(X,y,test_size=0.2,random_state=0)"
   ]
  },
  {
   "cell_type": "code",
   "execution_count": 140,
   "id": "0ef7e5a5",
   "metadata": {},
   "outputs": [],
   "source": [
    "#print(X_train_full.shape,y_train.shape)\n",
    "#print(X_test_full.shape,y_test.shape)"
   ]
  },
  {
   "cell_type": "code",
   "execution_count": 141,
   "id": "d18d78fc",
   "metadata": {},
   "outputs": [],
   "source": [
    "##Lets create a function to select only numerical variables\n",
    "numerical_variables=[]\n",
    "def select_num_variables(data,numerical_variables):\n",
    "    for i in data.columns:\n",
    "        if data[i].dtype in ['float64','int64']:\n",
    "            numerical_variables.append(i)\n",
    "            "
   ]
  },
  {
   "cell_type": "code",
   "execution_count": 142,
   "id": "fae669bb",
   "metadata": {},
   "outputs": [],
   "source": [
    "select_num_variables(X,numerical_variables)"
   ]
  },
  {
   "cell_type": "code",
   "execution_count": 143,
   "id": "f218687c",
   "metadata": {},
   "outputs": [
    {
     "data": {
      "text/plain": [
       "['CreditScore', 'Age', 'Tenure', 'Balance', 'EstimatedSalary']"
      ]
     },
     "execution_count": 143,
     "metadata": {},
     "output_type": "execute_result"
    }
   ],
   "source": [
    "numerical_variables"
   ]
  },
  {
   "cell_type": "code",
   "execution_count": 144,
   "id": "0c298484",
   "metadata": {},
   "outputs": [],
   "source": [
    "##Lets create a function to select only categorical variables\n",
    "categorical_variables=[]\n",
    "def select_cat_variables(data,categorical_variables):\n",
    "    for i in data.columns:\n",
    "        if data[i].dtype=='object':\n",
    "            categorical_variables.append(i)\n",
    "    "
   ]
  },
  {
   "cell_type": "code",
   "execution_count": 145,
   "id": "006e95aa",
   "metadata": {},
   "outputs": [],
   "source": [
    "select_cat_variables(X,categorical_variables)"
   ]
  },
  {
   "cell_type": "code",
   "execution_count": 146,
   "id": "c0080337",
   "metadata": {},
   "outputs": [
    {
     "data": {
      "text/plain": [
       "['Geography', 'Gender', 'NumOfProducts', 'HasCrCard', 'IsActiveMember']"
      ]
     },
     "execution_count": 146,
     "metadata": {},
     "output_type": "execute_result"
    }
   ],
   "source": [
    "categorical_variables"
   ]
  },
  {
   "cell_type": "code",
   "execution_count": 147,
   "id": "ff67afe3",
   "metadata": {},
   "outputs": [
    {
     "data": {
      "text/plain": [
       "['CreditScore',\n",
       " 'Age',\n",
       " 'Tenure',\n",
       " 'Balance',\n",
       " 'EstimatedSalary',\n",
       " 'Geography',\n",
       " 'Gender',\n",
       " 'NumOfProducts',\n",
       " 'HasCrCard',\n",
       " 'IsActiveMember']"
      ]
     },
     "execution_count": 147,
     "metadata": {},
     "output_type": "execute_result"
    }
   ],
   "source": [
    "##Keep Selected Columns\n",
    "my_cols=numerical_variables+categorical_variables\n",
    "my_cols"
   ]
  },
  {
   "cell_type": "code",
   "execution_count": 148,
   "id": "bf8337fc",
   "metadata": {},
   "outputs": [
    {
     "name": "stdout",
     "output_type": "stream",
     "text": [
      "<class 'pandas.core.frame.DataFrame'>\n",
      "MultiIndex: 10000 entries, (0, 3654) to (1, 7915)\n",
      "Data columns (total 10 columns):\n",
      " #   Column           Non-Null Count  Dtype  \n",
      "---  ------           --------------  -----  \n",
      " 0   CreditScore      10000 non-null  int64  \n",
      " 1   Geography        10000 non-null  object \n",
      " 2   Gender           10000 non-null  object \n",
      " 3   Age              10000 non-null  int64  \n",
      " 4   Tenure           10000 non-null  int64  \n",
      " 5   Balance          10000 non-null  float64\n",
      " 6   NumOfProducts    10000 non-null  object \n",
      " 7   HasCrCard        10000 non-null  object \n",
      " 8   IsActiveMember   10000 non-null  object \n",
      " 9   EstimatedSalary  10000 non-null  float64\n",
      "dtypes: float64(2), int64(3), object(5)\n",
      "memory usage: 1.1+ MB\n"
     ]
    }
   ],
   "source": [
    "X.info()"
   ]
  },
  {
   "cell_type": "code",
   "execution_count": 149,
   "id": "efda3980",
   "metadata": {},
   "outputs": [],
   "source": [
    "X_train,X_test,y_train,y_test=train_test_split(X,y,test_size=0.2,random_state=0)"
   ]
  },
  {
   "cell_type": "markdown",
   "id": "34ebbfb6",
   "metadata": {},
   "source": [
    "# Preprocessing transformation of numerical and categorical data"
   ]
  },
  {
   "cell_type": "code",
   "execution_count": 150,
   "id": "46f9ef61",
   "metadata": {},
   "outputs": [],
   "source": [
    "# numerical transformation\n",
    "numerical_transformer=Pipeline(steps=[\n",
    "    ('imputer', SimpleImputer(strategy=\"constant\")),\n",
    "    ('scaler',  StandardScaler())\n",
    "     ])"
   ]
  },
  {
   "cell_type": "code",
   "execution_count": 151,
   "id": "c28cb374",
   "metadata": {},
   "outputs": [],
   "source": [
    "#Categorical transformation\n",
    "categorical_transformer=Pipeline(steps=[\n",
    "    ('imputer',SimpleImputer(strategy=\"constant\")),\n",
    "    ('encoeder',OneHotEncoder(handle_unknown=\"ignore\"))\n",
    "])"
   ]
  },
  {
   "cell_type": "code",
   "execution_count": 152,
   "id": "f3cd56dc",
   "metadata": {},
   "outputs": [],
   "source": [
    "#Bundle preprocessing of numerical and categorical data using ColumnTransformer\n",
    "preprocessor=ColumnTransformer(transformers=[\n",
    "                                             ('num',numerical_transformer,numerical_variables),\n",
    "                                             ('cat',categorical_transformer,categorical_variables)\n",
    "])"
   ]
  },
  {
   "cell_type": "markdown",
   "id": "f2c65370",
   "metadata": {},
   "source": [
    "# Preprocess the data"
   ]
  },
  {
   "cell_type": "code",
   "execution_count": null,
   "id": "b3f9e236",
   "metadata": {},
   "outputs": [],
   "source": [
    "#preprocessor.fit_transform(X_train)"
   ]
  },
  {
   "cell_type": "code",
   "execution_count": 153,
   "id": "ee5ab1b4",
   "metadata": {},
   "outputs": [
    {
     "data": {
      "text/plain": [
       "(8000, 18)"
      ]
     },
     "execution_count": 153,
     "metadata": {},
     "output_type": "execute_result"
    }
   ],
   "source": [
    "##This gives me numpy array\n",
    "X_train_transformed=preprocessor.fit_transform(X_train)\n",
    "X_train_transformed.shape"
   ]
  },
  {
   "cell_type": "code",
   "execution_count": 154,
   "id": "ae5867a0",
   "metadata": {},
   "outputs": [],
   "source": [
    "#Convert it to DataFrame to extract and rename features\n",
    "X_df=pd.DataFrame(X_train_transformed)"
   ]
  },
  {
   "cell_type": "code",
   "execution_count": 156,
   "id": "a3966f28",
   "metadata": {},
   "outputs": [],
   "source": [
    "#This will give me the categorical variables transformed\n",
    "cat_names=preprocessor.transformers_[1][1]['encoeder']\\\n",
    ".get_feature_names(categorical_variables)"
   ]
  },
  {
   "cell_type": "code",
   "execution_count": 157,
   "id": "6098992d",
   "metadata": {},
   "outputs": [],
   "source": [
    "##Rename cat columns\n",
    "for i,j in zip(range(5,18), range(len(cat_names))):\n",
    "    X_df=X_df.rename(columns={X_df.columns[i]:cat_names[j]})\n",
    "    \n",
    "##Rename numerical columns\n",
    "for i,j in zip(range(0,5), range(len(numerical_variables))):\n",
    "    X_df=X_df.rename(columns={X_df.columns[i]:numerical_variables[j]})"
   ]
  },
  {
   "cell_type": "code",
   "execution_count": 158,
   "id": "88d07a88",
   "metadata": {
    "scrolled": true
   },
   "outputs": [
    {
     "data": {
      "text/html": [
       "<div>\n",
       "<style scoped>\n",
       "    .dataframe tbody tr th:only-of-type {\n",
       "        vertical-align: middle;\n",
       "    }\n",
       "\n",
       "    .dataframe tbody tr th {\n",
       "        vertical-align: top;\n",
       "    }\n",
       "\n",
       "    .dataframe thead th {\n",
       "        text-align: right;\n",
       "    }\n",
       "</style>\n",
       "<table border=\"1\" class=\"dataframe\">\n",
       "  <thead>\n",
       "    <tr style=\"text-align: right;\">\n",
       "      <th></th>\n",
       "      <th>CreditScore</th>\n",
       "      <th>Age</th>\n",
       "      <th>Tenure</th>\n",
       "      <th>Balance</th>\n",
       "      <th>EstimatedSalary</th>\n",
       "      <th>Geography_France</th>\n",
       "      <th>Geography_Germany</th>\n",
       "      <th>Geography_Spain</th>\n",
       "      <th>Gender_Female</th>\n",
       "      <th>Gender_Male</th>\n",
       "      <th>NumOfProducts_1</th>\n",
       "      <th>NumOfProducts_2</th>\n",
       "      <th>NumOfProducts_3</th>\n",
       "      <th>NumOfProducts_4</th>\n",
       "      <th>HasCrCard_0</th>\n",
       "      <th>HasCrCard_1</th>\n",
       "      <th>IsActiveMember_0</th>\n",
       "      <th>IsActiveMember_1</th>\n",
       "    </tr>\n",
       "  </thead>\n",
       "  <tbody>\n",
       "    <tr>\n",
       "      <th>0</th>\n",
       "      <td>-0.193178</td>\n",
       "      <td>-0.852208</td>\n",
       "      <td>-1.037856</td>\n",
       "      <td>-0.059334</td>\n",
       "      <td>1.430546</td>\n",
       "      <td>0.0</td>\n",
       "      <td>1.0</td>\n",
       "      <td>0.0</td>\n",
       "      <td>0.0</td>\n",
       "      <td>1.0</td>\n",
       "      <td>0.0</td>\n",
       "      <td>1.0</td>\n",
       "      <td>0.0</td>\n",
       "      <td>0.0</td>\n",
       "      <td>1.0</td>\n",
       "      <td>0.0</td>\n",
       "      <td>0.0</td>\n",
       "      <td>1.0</td>\n",
       "    </tr>\n",
       "    <tr>\n",
       "      <th>1</th>\n",
       "      <td>2.055417</td>\n",
       "      <td>0.963618</td>\n",
       "      <td>1.379879</td>\n",
       "      <td>0.907698</td>\n",
       "      <td>1.227660</td>\n",
       "      <td>0.0</td>\n",
       "      <td>1.0</td>\n",
       "      <td>0.0</td>\n",
       "      <td>1.0</td>\n",
       "      <td>0.0</td>\n",
       "      <td>1.0</td>\n",
       "      <td>0.0</td>\n",
       "      <td>0.0</td>\n",
       "      <td>0.0</td>\n",
       "      <td>0.0</td>\n",
       "      <td>1.0</td>\n",
       "      <td>1.0</td>\n",
       "      <td>0.0</td>\n",
       "    </tr>\n",
       "    <tr>\n",
       "      <th>2</th>\n",
       "      <td>-1.457366</td>\n",
       "      <td>-0.661068</td>\n",
       "      <td>1.379879</td>\n",
       "      <td>0.433516</td>\n",
       "      <td>-0.943857</td>\n",
       "      <td>1.0</td>\n",
       "      <td>0.0</td>\n",
       "      <td>0.0</td>\n",
       "      <td>0.0</td>\n",
       "      <td>1.0</td>\n",
       "      <td>1.0</td>\n",
       "      <td>0.0</td>\n",
       "      <td>0.0</td>\n",
       "      <td>0.0</td>\n",
       "      <td>0.0</td>\n",
       "      <td>1.0</td>\n",
       "      <td>0.0</td>\n",
       "      <td>1.0</td>\n",
       "    </tr>\n",
       "    <tr>\n",
       "      <th>3</th>\n",
       "      <td>-0.327887</td>\n",
       "      <td>-0.087649</td>\n",
       "      <td>-0.692465</td>\n",
       "      <td>0.318513</td>\n",
       "      <td>-0.024918</td>\n",
       "      <td>0.0</td>\n",
       "      <td>0.0</td>\n",
       "      <td>1.0</td>\n",
       "      <td>0.0</td>\n",
       "      <td>1.0</td>\n",
       "      <td>1.0</td>\n",
       "      <td>0.0</td>\n",
       "      <td>0.0</td>\n",
       "      <td>0.0</td>\n",
       "      <td>1.0</td>\n",
       "      <td>0.0</td>\n",
       "      <td>1.0</td>\n",
       "      <td>0.0</td>\n",
       "    </tr>\n",
       "    <tr>\n",
       "      <th>4</th>\n",
       "      <td>2.065779</td>\n",
       "      <td>-0.852208</td>\n",
       "      <td>-0.001684</td>\n",
       "      <td>0.751971</td>\n",
       "      <td>0.030450</td>\n",
       "      <td>0.0</td>\n",
       "      <td>1.0</td>\n",
       "      <td>0.0</td>\n",
       "      <td>0.0</td>\n",
       "      <td>1.0</td>\n",
       "      <td>0.0</td>\n",
       "      <td>1.0</td>\n",
       "      <td>0.0</td>\n",
       "      <td>0.0</td>\n",
       "      <td>0.0</td>\n",
       "      <td>1.0</td>\n",
       "      <td>0.0</td>\n",
       "      <td>1.0</td>\n",
       "    </tr>\n",
       "  </tbody>\n",
       "</table>\n",
       "</div>"
      ],
      "text/plain": [
       "   CreditScore       Age    Tenure   Balance  EstimatedSalary  \\\n",
       "0    -0.193178 -0.852208 -1.037856 -0.059334         1.430546   \n",
       "1     2.055417  0.963618  1.379879  0.907698         1.227660   \n",
       "2    -1.457366 -0.661068  1.379879  0.433516        -0.943857   \n",
       "3    -0.327887 -0.087649 -0.692465  0.318513        -0.024918   \n",
       "4     2.065779 -0.852208 -0.001684  0.751971         0.030450   \n",
       "\n",
       "   Geography_France  Geography_Germany  Geography_Spain  Gender_Female  \\\n",
       "0               0.0                1.0              0.0            0.0   \n",
       "1               0.0                1.0              0.0            1.0   \n",
       "2               1.0                0.0              0.0            0.0   \n",
       "3               0.0                0.0              1.0            0.0   \n",
       "4               0.0                1.0              0.0            0.0   \n",
       "\n",
       "   Gender_Male  NumOfProducts_1  NumOfProducts_2  NumOfProducts_3  \\\n",
       "0          1.0              0.0              1.0              0.0   \n",
       "1          0.0              1.0              0.0              0.0   \n",
       "2          1.0              1.0              0.0              0.0   \n",
       "3          1.0              1.0              0.0              0.0   \n",
       "4          1.0              0.0              1.0              0.0   \n",
       "\n",
       "   NumOfProducts_4  HasCrCard_0  HasCrCard_1  IsActiveMember_0  \\\n",
       "0              0.0          1.0          0.0               0.0   \n",
       "1              0.0          0.0          1.0               1.0   \n",
       "2              0.0          0.0          1.0               0.0   \n",
       "3              0.0          1.0          0.0               1.0   \n",
       "4              0.0          0.0          1.0               0.0   \n",
       "\n",
       "   IsActiveMember_1  \n",
       "0               1.0  \n",
       "1               0.0  \n",
       "2               1.0  \n",
       "3               0.0  \n",
       "4               1.0  "
      ]
     },
     "execution_count": 158,
     "metadata": {},
     "output_type": "execute_result"
    }
   ],
   "source": [
    "X_df.head()"
   ]
  },
  {
   "cell_type": "markdown",
   "id": "838ac0e3",
   "metadata": {},
   "source": [
    "# Feature selection"
   ]
  },
  {
   "cell_type": "markdown",
   "id": "9fdf7bd7",
   "metadata": {},
   "source": [
    "from sklearn.svm import LinearSVC\n",
    "lsvc = LinearSVC(C=0.01, penalty=\"l1\", dual=False).fit(X_train_transformed, y_train)\n",
    "model_lsvc = SelectFromModel(lsvc, prefit=True)\n",
    "X_new = model_lsvc.transform(X_train_transformed)\n",
    "X_new.shape[1]"
   ]
  },
  {
   "cell_type": "code",
   "execution_count": 159,
   "id": "e7a05eae",
   "metadata": {},
   "outputs": [
    {
     "data": {
      "text/plain": [
       "11"
      ]
     },
     "execution_count": 159,
     "metadata": {},
     "output_type": "execute_result"
    }
   ],
   "source": [
    "from sklearn.svm import LinearSVC\n",
    "lsvc = LinearSVC(C=0.01, penalty=\"l1\", dual=False).fit(X_df, y_train)\n",
    "model_lsvc = SelectFromModel(lsvc, prefit=True)\n",
    "X_new = model_lsvc.transform(X_df)\n",
    "X_new.shape[1]"
   ]
  },
  {
   "cell_type": "code",
   "execution_count": 162,
   "id": "892d425a",
   "metadata": {},
   "outputs": [],
   "source": [
    "#This will give the position of selected features in fporm of list [0, 1, 2, 3, 4, 6, 9, 10, 11, 12, 17]\n",
    "select_var_True=list(model_lsvc.get_support([0]))"
   ]
  },
  {
   "cell_type": "code",
   "execution_count": 164,
   "id": "ce973f76",
   "metadata": {},
   "outputs": [],
   "source": [
    "#This will subset the X_df dataset to select only the importnat features\n",
    "X_df_selected_features=X_df.iloc[:,select_var_True]"
   ]
  },
  {
   "cell_type": "code",
   "execution_count": 165,
   "id": "a3e254c5",
   "metadata": {},
   "outputs": [
    {
     "data": {
      "text/html": [
       "<div>\n",
       "<style scoped>\n",
       "    .dataframe tbody tr th:only-of-type {\n",
       "        vertical-align: middle;\n",
       "    }\n",
       "\n",
       "    .dataframe tbody tr th {\n",
       "        vertical-align: top;\n",
       "    }\n",
       "\n",
       "    .dataframe thead th {\n",
       "        text-align: right;\n",
       "    }\n",
       "</style>\n",
       "<table border=\"1\" class=\"dataframe\">\n",
       "  <thead>\n",
       "    <tr style=\"text-align: right;\">\n",
       "      <th></th>\n",
       "      <th>CreditScore</th>\n",
       "      <th>Age</th>\n",
       "      <th>Tenure</th>\n",
       "      <th>Balance</th>\n",
       "      <th>EstimatedSalary</th>\n",
       "      <th>Geography_Germany</th>\n",
       "      <th>Gender_Male</th>\n",
       "      <th>NumOfProducts_1</th>\n",
       "      <th>NumOfProducts_2</th>\n",
       "      <th>NumOfProducts_3</th>\n",
       "      <th>IsActiveMember_1</th>\n",
       "    </tr>\n",
       "  </thead>\n",
       "  <tbody>\n",
       "    <tr>\n",
       "      <th>0</th>\n",
       "      <td>-0.193178</td>\n",
       "      <td>-0.852208</td>\n",
       "      <td>-1.037856</td>\n",
       "      <td>-0.059334</td>\n",
       "      <td>1.430546</td>\n",
       "      <td>1.0</td>\n",
       "      <td>1.0</td>\n",
       "      <td>0.0</td>\n",
       "      <td>1.0</td>\n",
       "      <td>0.0</td>\n",
       "      <td>1.0</td>\n",
       "    </tr>\n",
       "    <tr>\n",
       "      <th>1</th>\n",
       "      <td>2.055417</td>\n",
       "      <td>0.963618</td>\n",
       "      <td>1.379879</td>\n",
       "      <td>0.907698</td>\n",
       "      <td>1.227660</td>\n",
       "      <td>1.0</td>\n",
       "      <td>0.0</td>\n",
       "      <td>1.0</td>\n",
       "      <td>0.0</td>\n",
       "      <td>0.0</td>\n",
       "      <td>0.0</td>\n",
       "    </tr>\n",
       "    <tr>\n",
       "      <th>2</th>\n",
       "      <td>-1.457366</td>\n",
       "      <td>-0.661068</td>\n",
       "      <td>1.379879</td>\n",
       "      <td>0.433516</td>\n",
       "      <td>-0.943857</td>\n",
       "      <td>0.0</td>\n",
       "      <td>1.0</td>\n",
       "      <td>1.0</td>\n",
       "      <td>0.0</td>\n",
       "      <td>0.0</td>\n",
       "      <td>1.0</td>\n",
       "    </tr>\n",
       "    <tr>\n",
       "      <th>3</th>\n",
       "      <td>-0.327887</td>\n",
       "      <td>-0.087649</td>\n",
       "      <td>-0.692465</td>\n",
       "      <td>0.318513</td>\n",
       "      <td>-0.024918</td>\n",
       "      <td>0.0</td>\n",
       "      <td>1.0</td>\n",
       "      <td>1.0</td>\n",
       "      <td>0.0</td>\n",
       "      <td>0.0</td>\n",
       "      <td>0.0</td>\n",
       "    </tr>\n",
       "    <tr>\n",
       "      <th>4</th>\n",
       "      <td>2.065779</td>\n",
       "      <td>-0.852208</td>\n",
       "      <td>-0.001684</td>\n",
       "      <td>0.751971</td>\n",
       "      <td>0.030450</td>\n",
       "      <td>1.0</td>\n",
       "      <td>1.0</td>\n",
       "      <td>0.0</td>\n",
       "      <td>1.0</td>\n",
       "      <td>0.0</td>\n",
       "      <td>1.0</td>\n",
       "    </tr>\n",
       "  </tbody>\n",
       "</table>\n",
       "</div>"
      ],
      "text/plain": [
       "   CreditScore       Age    Tenure   Balance  EstimatedSalary  \\\n",
       "0    -0.193178 -0.852208 -1.037856 -0.059334         1.430546   \n",
       "1     2.055417  0.963618  1.379879  0.907698         1.227660   \n",
       "2    -1.457366 -0.661068  1.379879  0.433516        -0.943857   \n",
       "3    -0.327887 -0.087649 -0.692465  0.318513        -0.024918   \n",
       "4     2.065779 -0.852208 -0.001684  0.751971         0.030450   \n",
       "\n",
       "   Geography_Germany  Gender_Male  NumOfProducts_1  NumOfProducts_2  \\\n",
       "0                1.0          1.0              0.0              1.0   \n",
       "1                1.0          0.0              1.0              0.0   \n",
       "2                0.0          1.0              1.0              0.0   \n",
       "3                0.0          1.0              1.0              0.0   \n",
       "4                1.0          1.0              0.0              1.0   \n",
       "\n",
       "   NumOfProducts_3  IsActiveMember_1  \n",
       "0              0.0               1.0  \n",
       "1              0.0               0.0  \n",
       "2              0.0               1.0  \n",
       "3              0.0               0.0  \n",
       "4              0.0               1.0  "
      ]
     },
     "execution_count": 165,
     "metadata": {},
     "output_type": "execute_result"
    }
   ],
   "source": [
    "X_df_selected_features.head()"
   ]
  },
  {
   "cell_type": "code",
   "execution_count": 166,
   "id": "582c5c76",
   "metadata": {},
   "outputs": [
    {
     "data": {
      "text/plain": [
       "['CreditScore',\n",
       " 'Age',\n",
       " 'Tenure',\n",
       " 'Balance',\n",
       " 'EstimatedSalary',\n",
       " 'Geography_Germany',\n",
       " 'Gender_Male',\n",
       " 'NumOfProducts_1',\n",
       " 'NumOfProducts_2',\n",
       " 'NumOfProducts_3',\n",
       " 'IsActiveMember_1']"
      ]
     },
     "execution_count": 166,
     "metadata": {},
     "output_type": "execute_result"
    }
   ],
   "source": [
    "selected_features=list(X_df_selected_features.columns)\n",
    "selected_features"
   ]
  },
  {
   "cell_type": "code",
   "execution_count": 167,
   "id": "5f79118f",
   "metadata": {},
   "outputs": [
    {
     "data": {
      "text/plain": [
       "(8000, 11)"
      ]
     },
     "execution_count": 167,
     "metadata": {},
     "output_type": "execute_result"
    }
   ],
   "source": [
    "X_df_selected_features.shape"
   ]
  },
  {
   "cell_type": "code",
   "execution_count": 168,
   "id": "cba2416e",
   "metadata": {},
   "outputs": [],
   "source": [
    "##X_new.shape[1] can be directly used for input_dim in Keras, but we will create a def to pass it\n",
    "#Purely for learning purpose\n",
    "def input_dim(data_train):\n",
    "    X_train_transformed=preprocessor.fit_transform(X_train)\n",
    "    lsvc = LinearSVC(C=0.01, penalty=\"l1\", dual=False).fit(X_train_transformed, y_train)\n",
    "    model_lsvc = SelectFromModel(lsvc, prefit=True)\n",
    "    X_new = model_lsvc.transform(X_train_transformed)\n",
    "    return X_new.shape[1]\n"
   ]
  },
  {
   "cell_type": "code",
   "execution_count": 169,
   "id": "e13e2152",
   "metadata": {},
   "outputs": [
    {
     "data": {
      "text/plain": [
       "11"
      ]
     },
     "execution_count": 169,
     "metadata": {},
     "output_type": "execute_result"
    }
   ],
   "source": [
    "input_dim(X_train)"
   ]
  },
  {
   "cell_type": "code",
   "execution_count": 170,
   "id": "e5602281",
   "metadata": {},
   "outputs": [
    {
     "data": {
      "text/plain": [
       "11"
      ]
     },
     "execution_count": 170,
     "metadata": {},
     "output_type": "execute_result"
    }
   ],
   "source": [
    "##or Simply\n",
    "X_df_selected_features.shape[1]"
   ]
  },
  {
   "cell_type": "markdown",
   "id": "1c22fe66",
   "metadata": {},
   "source": [
    "# Keras Model"
   ]
  },
  {
   "cell_type": "code",
   "execution_count": 171,
   "id": "229bd1a8",
   "metadata": {},
   "outputs": [],
   "source": [
    "# Function to create model, required for KerasClassifier\n",
    "def create_model(optimizer='rmsprop', init='glorot_uniform'):\n",
    "    # create model\n",
    "    model = Sequential()\n",
    "    model.add(Dense(12, input_dim=input_dim(X_train), kernel_initializer=init, activation='relu'))\n",
    "    model.add(Dense(8, kernel_initializer=init, activation='relu'))\n",
    "    model.add(Dense(1, kernel_initializer=init, activation='sigmoid'))\n",
    "    # Compile model\n",
    "    model.compile(loss='binary_crossentropy', optimizer=optimizer, metrics=['accuracy'])\n",
    "    return model"
   ]
  },
  {
   "cell_type": "code",
   "execution_count": 172,
   "id": "5ad5583f",
   "metadata": {},
   "outputs": [],
   "source": [
    "# create model\n",
    "model = KerasClassifier(build_fn=create_model,verbose=0)"
   ]
  },
  {
   "cell_type": "code",
   "execution_count": 128,
   "id": "81884885",
   "metadata": {},
   "outputs": [],
   "source": [
    "##Define Gridsearch parameters"
   ]
  },
  {
   "cell_type": "code",
   "execution_count": 202,
   "id": "6fb1734d",
   "metadata": {},
   "outputs": [],
   "source": [
    "param_grid={'optimizer': ['adam','rmsprop'],\n",
    "            'init':['uniform','glorot_uniform'],\n",
    "            'epochs':[150,200],\n",
    "            'batch_size':[50,100,500]}"
   ]
  },
  {
   "cell_type": "code",
   "execution_count": 203,
   "id": "f5f95e7a",
   "metadata": {},
   "outputs": [],
   "source": [
    "grid=GridSearchCV(estimator=model, param_grid=param_grid, n_jobs=-1, cv=3)"
   ]
  },
  {
   "cell_type": "code",
   "execution_count": 204,
   "id": "b0036794",
   "metadata": {},
   "outputs": [],
   "source": [
    "grid_result=grid.fit(X_df_selected_features,y_train)"
   ]
  },
  {
   "cell_type": "code",
   "execution_count": 205,
   "id": "88f1b305",
   "metadata": {},
   "outputs": [
    {
     "name": "stdout",
     "output_type": "stream",
     "text": [
      "Best: 0.864251 using {'batch_size': 50, 'epochs': 200, 'init': 'glorot_uniform', 'optimizer': 'rmsprop'}\n"
     ]
    }
   ],
   "source": [
    "print(\"Best: %f using %s\" % (grid_result.best_score_, grid_result.best_params_))"
   ]
  },
  {
   "cell_type": "code",
   "execution_count": 206,
   "id": "ef63c959",
   "metadata": {},
   "outputs": [
    {
     "name": "stdout",
     "output_type": "stream",
     "text": [
      "0.862001 (0.007634) with: {'batch_size': 50, 'epochs': 150, 'init': 'uniform', 'optimizer': 'adam'}\n",
      "0.862501 (0.004133) with: {'batch_size': 50, 'epochs': 150, 'init': 'uniform', 'optimizer': 'rmsprop'}\n",
      "0.861751 (0.006517) with: {'batch_size': 50, 'epochs': 150, 'init': 'glorot_uniform', 'optimizer': 'adam'}\n",
      "0.861501 (0.006701) with: {'batch_size': 50, 'epochs': 150, 'init': 'glorot_uniform', 'optimizer': 'rmsprop'}\n",
      "0.860126 (0.005127) with: {'batch_size': 50, 'epochs': 200, 'init': 'uniform', 'optimizer': 'adam'}\n",
      "0.860751 (0.006826) with: {'batch_size': 50, 'epochs': 200, 'init': 'uniform', 'optimizer': 'rmsprop'}\n",
      "0.859001 (0.005597) with: {'batch_size': 50, 'epochs': 200, 'init': 'glorot_uniform', 'optimizer': 'adam'}\n",
      "0.864251 (0.007347) with: {'batch_size': 50, 'epochs': 200, 'init': 'glorot_uniform', 'optimizer': 'rmsprop'}\n",
      "0.863626 (0.006057) with: {'batch_size': 100, 'epochs': 150, 'init': 'uniform', 'optimizer': 'adam'}\n",
      "0.861501 (0.007001) with: {'batch_size': 100, 'epochs': 150, 'init': 'uniform', 'optimizer': 'rmsprop'}\n",
      "0.859001 (0.006931) with: {'batch_size': 100, 'epochs': 150, 'init': 'glorot_uniform', 'optimizer': 'adam'}\n",
      "0.861876 (0.008091) with: {'batch_size': 100, 'epochs': 150, 'init': 'glorot_uniform', 'optimizer': 'rmsprop'}\n",
      "0.861376 (0.007578) with: {'batch_size': 100, 'epochs': 200, 'init': 'uniform', 'optimizer': 'adam'}\n",
      "0.861876 (0.005900) with: {'batch_size': 100, 'epochs': 200, 'init': 'uniform', 'optimizer': 'rmsprop'}\n",
      "0.857251 (0.005772) with: {'batch_size': 100, 'epochs': 200, 'init': 'glorot_uniform', 'optimizer': 'adam'}\n",
      "0.863501 (0.005290) with: {'batch_size': 100, 'epochs': 200, 'init': 'glorot_uniform', 'optimizer': 'rmsprop'}\n",
      "0.859626 (0.007384) with: {'batch_size': 500, 'epochs': 150, 'init': 'uniform', 'optimizer': 'adam'}\n",
      "0.860751 (0.005327) with: {'batch_size': 500, 'epochs': 150, 'init': 'uniform', 'optimizer': 'rmsprop'}\n",
      "0.860001 (0.007041) with: {'batch_size': 500, 'epochs': 150, 'init': 'glorot_uniform', 'optimizer': 'adam'}\n",
      "0.858626 (0.005394) with: {'batch_size': 500, 'epochs': 150, 'init': 'glorot_uniform', 'optimizer': 'rmsprop'}\n",
      "0.862126 (0.005807) with: {'batch_size': 500, 'epochs': 200, 'init': 'uniform', 'optimizer': 'adam'}\n",
      "0.862126 (0.006798) with: {'batch_size': 500, 'epochs': 200, 'init': 'uniform', 'optimizer': 'rmsprop'}\n",
      "0.861376 (0.007870) with: {'batch_size': 500, 'epochs': 200, 'init': 'glorot_uniform', 'optimizer': 'adam'}\n",
      "0.859126 (0.005370) with: {'batch_size': 500, 'epochs': 200, 'init': 'glorot_uniform', 'optimizer': 'rmsprop'}\n"
     ]
    }
   ],
   "source": [
    "means = grid_result.cv_results_['mean_test_score']\n",
    "stds = grid_result.cv_results_['std_test_score']\n",
    "params = grid_result.cv_results_['params']\n",
    "for mean, stdev, param in zip(means, stds, params):\n",
    "    print(\"%f (%f) with: %r\" % (mean, stdev, param))"
   ]
  },
  {
   "cell_type": "markdown",
   "id": "2f1d1e25",
   "metadata": {},
   "source": [
    "#Linear SVC method of feature selection\n",
    "from sklearn.svm import LinearSVC\n",
    "my_pipeline=Pipeline(steps=[('preprocessor',preprocessor),\n",
    "                            ('feature selection',SelectFromModel(LinearSVC(penalty=\"l1\",dual=False))),\n",
    "                             ('model',grid)])"
   ]
  },
  {
   "cell_type": "markdown",
   "id": "64f6ba34",
   "metadata": {},
   "source": [
    "# Test Data Set"
   ]
  },
  {
   "cell_type": "code",
   "execution_count": null,
   "id": "a4c177a5",
   "metadata": {},
   "outputs": [],
   "source": [
    "X_test.head()"
   ]
  },
  {
   "cell_type": "markdown",
   "id": "aaa02b2d",
   "metadata": {},
   "source": [
    "# Preprocess the test data¶\n",
    "In the last section I have compressed all the test- preprocess steps into one function (Below codes will help from learning purpose in term sof steps involved to match the shape of test and train data"
   ]
  },
  {
   "cell_type": "code",
   "execution_count": 106,
   "id": "aa77efcb",
   "metadata": {},
   "outputs": [
    {
     "data": {
      "text/plain": [
       "(600, 18)"
      ]
     },
     "execution_count": 106,
     "metadata": {},
     "output_type": "execute_result"
    }
   ],
   "source": [
    "##This gives me numpy array\n",
    "X_test_transformed=preprocessor.fit_transform(X_test)\n",
    "X_test_transformed.shape"
   ]
  },
  {
   "cell_type": "code",
   "execution_count": 107,
   "id": "3c9c96f1",
   "metadata": {},
   "outputs": [],
   "source": [
    "#Convert it to DataFrame to extract and rename features\n",
    "X_test_df=pd.DataFrame(X_test_transformed)"
   ]
  },
  {
   "cell_type": "code",
   "execution_count": 109,
   "id": "8e63c5da",
   "metadata": {},
   "outputs": [
    {
     "data": {
      "text/plain": [
       "(600, 18)"
      ]
     },
     "execution_count": 109,
     "metadata": {},
     "output_type": "execute_result"
    }
   ],
   "source": [
    "X_test_df.head()\n",
    "X_test_df.shape"
   ]
  },
  {
   "cell_type": "code",
   "execution_count": 110,
   "id": "6c967ae0",
   "metadata": {},
   "outputs": [],
   "source": [
    "#This will give me the categorical variables transformed\n",
    "cat_names=preprocessor.transformers_[1][1]['encoeder']\\\n",
    ".get_feature_names(categorical_variables)"
   ]
  },
  {
   "cell_type": "code",
   "execution_count": 111,
   "id": "8c609148",
   "metadata": {},
   "outputs": [],
   "source": [
    "##Rename cat columns\n",
    "for i,j in zip(range(5,18), range(len(cat_names))):\n",
    "    X_test_df=X_test_df.rename(columns={X_test_df.columns[i]:cat_names[j]})\n",
    "    \n",
    "##Rename numerical columns\n",
    "for i,j in zip(range(0,5), range(len(numerical_variables))):\n",
    "    X_test_df=X_test_df.rename(columns={X_test_df.columns[i]:numerical_variables[j]})"
   ]
  },
  {
   "cell_type": "code",
   "execution_count": 113,
   "id": "6a3dfa02",
   "metadata": {},
   "outputs": [
    {
     "data": {
      "text/plain": [
       "(600, 18)"
      ]
     },
     "execution_count": 113,
     "metadata": {},
     "output_type": "execute_result"
    }
   ],
   "source": [
    "X_test_df.head()\n",
    "X_test_df.shape"
   ]
  },
  {
   "cell_type": "code",
   "execution_count": null,
   "id": "ed1aebf1",
   "metadata": {},
   "outputs": [],
   "source": [
    "##Now select the same features as that in training data"
   ]
  },
  {
   "cell_type": "code",
   "execution_count": 94,
   "id": "49d309cf",
   "metadata": {},
   "outputs": [
    {
     "data": {
      "text/plain": [
       "['Age',\n",
       " 'Geography_Germany',\n",
       " 'Gender_Male',\n",
       " 'NumOfProducts_1',\n",
       " 'NumOfProducts_2',\n",
       " 'IsActiveMember_1']"
      ]
     },
     "execution_count": 94,
     "metadata": {},
     "output_type": "execute_result"
    }
   ],
   "source": [
    "selected_features=list(X_df_selected_features.columns)\n",
    "selected_features"
   ]
  },
  {
   "cell_type": "code",
   "execution_count": 120,
   "id": "459a4d5e",
   "metadata": {},
   "outputs": [],
   "source": [
    "X_test_processed=X_test_df[selected_features]"
   ]
  },
  {
   "cell_type": "code",
   "execution_count": 124,
   "id": "872f6c91",
   "metadata": {},
   "outputs": [
    {
     "data": {
      "text/plain": [
       "(600, 6)"
      ]
     },
     "execution_count": 124,
     "metadata": {},
     "output_type": "execute_result"
    }
   ],
   "source": [
    "X_test_processed.head()\n",
    "X_test_processed.shape"
   ]
  },
  {
   "cell_type": "code",
   "execution_count": 119,
   "id": "64b3a412",
   "metadata": {
    "collapsed": true
   },
   "outputs": [
    {
     "name": "stdout",
     "output_type": "stream",
     "text": [
      "Help on method reindex in module pandas.core.frame:\n",
      "\n",
      "reindex(labels=None, index=None, columns=None, axis=None, method=None, copy=True, level=None, fill_value=nan, limit=None, tolerance=None) method of pandas.core.frame.DataFrame instance\n",
      "    Conform Series/DataFrame to new index with optional filling logic.\n",
      "    \n",
      "    Places NA/NaN in locations having no value in the previous index. A new object\n",
      "    is produced unless the new index is equivalent to the current one and\n",
      "    ``copy=False``.\n",
      "    \n",
      "    Parameters\n",
      "    ----------\n",
      "    \n",
      "    keywords for axes : array-like, optional\n",
      "        New labels / index to conform to, should be specified using\n",
      "        keywords. Preferably an Index object to avoid duplicating data.\n",
      "    \n",
      "    method : {None, 'backfill'/'bfill', 'pad'/'ffill', 'nearest'}\n",
      "        Method to use for filling holes in reindexed DataFrame.\n",
      "        Please note: this is only applicable to DataFrames/Series with a\n",
      "        monotonically increasing/decreasing index.\n",
      "    \n",
      "        * None (default): don't fill gaps\n",
      "        * pad / ffill: Propagate last valid observation forward to next\n",
      "          valid.\n",
      "        * backfill / bfill: Use next valid observation to fill gap.\n",
      "        * nearest: Use nearest valid observations to fill gap.\n",
      "    \n",
      "    copy : bool, default True\n",
      "        Return a new object, even if the passed indexes are the same.\n",
      "    level : int or name\n",
      "        Broadcast across a level, matching Index values on the\n",
      "        passed MultiIndex level.\n",
      "    fill_value : scalar, default np.NaN\n",
      "        Value to use for missing values. Defaults to NaN, but can be any\n",
      "        \"compatible\" value.\n",
      "    limit : int, default None\n",
      "        Maximum number of consecutive elements to forward or backward fill.\n",
      "    tolerance : optional\n",
      "        Maximum distance between original and new labels for inexact\n",
      "        matches. The values of the index at the matching locations most\n",
      "        satisfy the equation ``abs(index[indexer] - target) <= tolerance``.\n",
      "    \n",
      "        Tolerance may be a scalar value, which applies the same tolerance\n",
      "        to all values, or list-like, which applies variable tolerance per\n",
      "        element. List-like includes list, tuple, array, Series, and must be\n",
      "        the same size as the index and its dtype must exactly match the\n",
      "        index's type.\n",
      "    \n",
      "    Returns\n",
      "    -------\n",
      "    Series/DataFrame with changed index.\n",
      "    \n",
      "    See Also\n",
      "    --------\n",
      "    DataFrame.set_index : Set row labels.\n",
      "    DataFrame.reset_index : Remove row labels or move them to new columns.\n",
      "    DataFrame.reindex_like : Change to same indices as other DataFrame.\n",
      "    \n",
      "    Examples\n",
      "    --------\n",
      "    ``DataFrame.reindex`` supports two calling conventions\n",
      "    \n",
      "    * ``(index=index_labels, columns=column_labels, ...)``\n",
      "    * ``(labels, axis={'index', 'columns'}, ...)``\n",
      "    \n",
      "    We *highly* recommend using keyword arguments to clarify your\n",
      "    intent.\n",
      "    \n",
      "    Create a dataframe with some fictional data.\n",
      "    \n",
      "    >>> index = ['Firefox', 'Chrome', 'Safari', 'IE10', 'Konqueror']\n",
      "    >>> df = pd.DataFrame({'http_status': [200, 200, 404, 404, 301],\n",
      "    ...                   'response_time': [0.04, 0.02, 0.07, 0.08, 1.0]},\n",
      "    ...                   index=index)\n",
      "    >>> df\n",
      "               http_status  response_time\n",
      "    Firefox            200           0.04\n",
      "    Chrome             200           0.02\n",
      "    Safari             404           0.07\n",
      "    IE10               404           0.08\n",
      "    Konqueror          301           1.00\n",
      "    \n",
      "    Create a new index and reindex the dataframe. By default\n",
      "    values in the new index that do not have corresponding\n",
      "    records in the dataframe are assigned ``NaN``.\n",
      "    \n",
      "    >>> new_index = ['Safari', 'Iceweasel', 'Comodo Dragon', 'IE10',\n",
      "    ...              'Chrome']\n",
      "    >>> df.reindex(new_index)\n",
      "                   http_status  response_time\n",
      "    Safari               404.0           0.07\n",
      "    Iceweasel              NaN            NaN\n",
      "    Comodo Dragon          NaN            NaN\n",
      "    IE10                 404.0           0.08\n",
      "    Chrome               200.0           0.02\n",
      "    \n",
      "    We can fill in the missing values by passing a value to\n",
      "    the keyword ``fill_value``. Because the index is not monotonically\n",
      "    increasing or decreasing, we cannot use arguments to the keyword\n",
      "    ``method`` to fill the ``NaN`` values.\n",
      "    \n",
      "    >>> df.reindex(new_index, fill_value=0)\n",
      "                   http_status  response_time\n",
      "    Safari                 404           0.07\n",
      "    Iceweasel                0           0.00\n",
      "    Comodo Dragon            0           0.00\n",
      "    IE10                   404           0.08\n",
      "    Chrome                 200           0.02\n",
      "    \n",
      "    >>> df.reindex(new_index, fill_value='missing')\n",
      "                  http_status response_time\n",
      "    Safari                404          0.07\n",
      "    Iceweasel         missing       missing\n",
      "    Comodo Dragon     missing       missing\n",
      "    IE10                  404          0.08\n",
      "    Chrome                200          0.02\n",
      "    \n",
      "    We can also reindex the columns.\n",
      "    \n",
      "    >>> df.reindex(columns=['http_status', 'user_agent'])\n",
      "               http_status  user_agent\n",
      "    Firefox            200         NaN\n",
      "    Chrome             200         NaN\n",
      "    Safari             404         NaN\n",
      "    IE10               404         NaN\n",
      "    Konqueror          301         NaN\n",
      "    \n",
      "    Or we can use \"axis-style\" keyword arguments\n",
      "    \n",
      "    >>> df.reindex(['http_status', 'user_agent'], axis=\"columns\")\n",
      "               http_status  user_agent\n",
      "    Firefox            200         NaN\n",
      "    Chrome             200         NaN\n",
      "    Safari             404         NaN\n",
      "    IE10               404         NaN\n",
      "    Konqueror          301         NaN\n",
      "    \n",
      "    To further illustrate the filling functionality in\n",
      "    ``reindex``, we will create a dataframe with a\n",
      "    monotonically increasing index (for example, a sequence\n",
      "    of dates).\n",
      "    \n",
      "    >>> date_index = pd.date_range('1/1/2010', periods=6, freq='D')\n",
      "    >>> df2 = pd.DataFrame({\"prices\": [100, 101, np.nan, 100, 89, 88]},\n",
      "    ...                    index=date_index)\n",
      "    >>> df2\n",
      "                prices\n",
      "    2010-01-01   100.0\n",
      "    2010-01-02   101.0\n",
      "    2010-01-03     NaN\n",
      "    2010-01-04   100.0\n",
      "    2010-01-05    89.0\n",
      "    2010-01-06    88.0\n",
      "    \n",
      "    Suppose we decide to expand the dataframe to cover a wider\n",
      "    date range.\n",
      "    \n",
      "    >>> date_index2 = pd.date_range('12/29/2009', periods=10, freq='D')\n",
      "    >>> df2.reindex(date_index2)\n",
      "                prices\n",
      "    2009-12-29     NaN\n",
      "    2009-12-30     NaN\n",
      "    2009-12-31     NaN\n",
      "    2010-01-01   100.0\n",
      "    2010-01-02   101.0\n",
      "    2010-01-03     NaN\n",
      "    2010-01-04   100.0\n",
      "    2010-01-05    89.0\n",
      "    2010-01-06    88.0\n",
      "    2010-01-07     NaN\n",
      "    \n",
      "    The index entries that did not have a value in the original data frame\n",
      "    (for example, '2009-12-29') are by default filled with ``NaN``.\n",
      "    If desired, we can fill in the missing values using one of several\n",
      "    options.\n",
      "    \n",
      "    For example, to back-propagate the last valid value to fill the ``NaN``\n",
      "    values, pass ``bfill`` as an argument to the ``method`` keyword.\n",
      "    \n",
      "    >>> df2.reindex(date_index2, method='bfill')\n",
      "                prices\n",
      "    2009-12-29   100.0\n",
      "    2009-12-30   100.0\n",
      "    2009-12-31   100.0\n",
      "    2010-01-01   100.0\n",
      "    2010-01-02   101.0\n",
      "    2010-01-03     NaN\n",
      "    2010-01-04   100.0\n",
      "    2010-01-05    89.0\n",
      "    2010-01-06    88.0\n",
      "    2010-01-07     NaN\n",
      "    \n",
      "    Please note that the ``NaN`` value present in the original dataframe\n",
      "    (at index value 2010-01-03) will not be filled by any of the\n",
      "    value propagation schemes. This is because filling while reindexing\n",
      "    does not look at dataframe values, but only compares the original and\n",
      "    desired indexes. If you do want to fill in the ``NaN`` values present\n",
      "    in the original dataframe, use the ``fillna()`` method.\n",
      "    \n",
      "    See the :ref:`user guide <basics.reindexing>` for more.\n",
      "\n"
     ]
    }
   ],
   "source": [
    "help(X_test_processed.reindex)"
   ]
  },
  {
   "cell_type": "markdown",
   "id": "a5fb4c64",
   "metadata": {},
   "source": [
    "A test dataset can have less classes for a categorical variable, hence there could be a possibility that the selected features in the train dataset might not be available in test dataset,\n",
    "\n",
    "In that case we will have to create those features in test dataset with value=0"
   ]
  },
  {
   "cell_type": "code",
   "execution_count": 122,
   "id": "2855b460",
   "metadata": {},
   "outputs": [],
   "source": [
    "#we canuse reindex function to get the missing colums in test datatset with fill_value=0\n",
    "#help(X_test_processed.reindex) for more details\n",
    "X_test_processed=X_test_processed.reindex(columns=X_df_selected_features.columns,fill_value=0)"
   ]
  },
  {
   "cell_type": "code",
   "execution_count": 123,
   "id": "1ee3d7cb",
   "metadata": {},
   "outputs": [
    {
     "data": {
      "text/html": [
       "<div>\n",
       "<style scoped>\n",
       "    .dataframe tbody tr th:only-of-type {\n",
       "        vertical-align: middle;\n",
       "    }\n",
       "\n",
       "    .dataframe tbody tr th {\n",
       "        vertical-align: top;\n",
       "    }\n",
       "\n",
       "    .dataframe thead th {\n",
       "        text-align: right;\n",
       "    }\n",
       "</style>\n",
       "<table border=\"1\" class=\"dataframe\">\n",
       "  <thead>\n",
       "    <tr style=\"text-align: right;\">\n",
       "      <th></th>\n",
       "      <th>Age</th>\n",
       "      <th>Geography_Germany</th>\n",
       "      <th>Gender_Male</th>\n",
       "      <th>NumOfProducts_1</th>\n",
       "      <th>NumOfProducts_2</th>\n",
       "      <th>IsActiveMember_1</th>\n",
       "    </tr>\n",
       "  </thead>\n",
       "  <tbody>\n",
       "    <tr>\n",
       "      <th>0</th>\n",
       "      <td>0.198989</td>\n",
       "      <td>1.0</td>\n",
       "      <td>1.0</td>\n",
       "      <td>0.0</td>\n",
       "      <td>1.0</td>\n",
       "      <td>1.0</td>\n",
       "    </tr>\n",
       "    <tr>\n",
       "      <th>1</th>\n",
       "      <td>0.002295</td>\n",
       "      <td>0.0</td>\n",
       "      <td>1.0</td>\n",
       "      <td>0.0</td>\n",
       "      <td>1.0</td>\n",
       "      <td>1.0</td>\n",
       "    </tr>\n",
       "    <tr>\n",
       "      <th>2</th>\n",
       "      <td>-0.194400</td>\n",
       "      <td>0.0</td>\n",
       "      <td>1.0</td>\n",
       "      <td>1.0</td>\n",
       "      <td>0.0</td>\n",
       "      <td>1.0</td>\n",
       "    </tr>\n",
       "    <tr>\n",
       "      <th>3</th>\n",
       "      <td>1.575850</td>\n",
       "      <td>0.0</td>\n",
       "      <td>0.0</td>\n",
       "      <td>0.0</td>\n",
       "      <td>0.0</td>\n",
       "      <td>0.0</td>\n",
       "    </tr>\n",
       "    <tr>\n",
       "      <th>4</th>\n",
       "      <td>-0.981177</td>\n",
       "      <td>1.0</td>\n",
       "      <td>0.0</td>\n",
       "      <td>1.0</td>\n",
       "      <td>0.0</td>\n",
       "      <td>1.0</td>\n",
       "    </tr>\n",
       "  </tbody>\n",
       "</table>\n",
       "</div>"
      ],
      "text/plain": [
       "        Age  Geography_Germany  Gender_Male  NumOfProducts_1  NumOfProducts_2  \\\n",
       "0  0.198989                1.0          1.0              0.0              1.0   \n",
       "1  0.002295                0.0          1.0              0.0              1.0   \n",
       "2 -0.194400                0.0          1.0              1.0              0.0   \n",
       "3  1.575850                0.0          0.0              0.0              0.0   \n",
       "4 -0.981177                1.0          0.0              1.0              0.0   \n",
       "\n",
       "   IsActiveMember_1  \n",
       "0               1.0  \n",
       "1               1.0  \n",
       "2               1.0  \n",
       "3               0.0  \n",
       "4               1.0  "
      ]
     },
     "execution_count": 123,
     "metadata": {},
     "output_type": "execute_result"
    }
   ],
   "source": [
    "X_test_processed.head()"
   ]
  },
  {
   "cell_type": "code",
   "execution_count": 125,
   "id": "817073f6",
   "metadata": {},
   "outputs": [],
   "source": [
    "preds=grid.predict(X_test_processed)"
   ]
  },
  {
   "cell_type": "code",
   "execution_count": 126,
   "id": "c721c20e",
   "metadata": {},
   "outputs": [
    {
     "data": {
      "text/plain": [
       "(600, 1)"
      ]
     },
     "execution_count": 126,
     "metadata": {},
     "output_type": "execute_result"
    }
   ],
   "source": [
    "preds.shape"
   ]
  },
  {
   "cell_type": "code",
   "execution_count": 127,
   "id": "653e8abc",
   "metadata": {},
   "outputs": [
    {
     "name": "stdout",
     "output_type": "stream",
     "text": [
      "Classification report: \n",
      "               precision    recall  f1-score   support\n",
      "\n",
      "           1       0.71      0.42      0.53       101\n",
      "           0       0.89      0.97      0.93       499\n",
      "\n",
      "   micro avg       0.87      0.87      0.87       600\n",
      "   macro avg       0.80      0.69      0.73       600\n",
      "weighted avg       0.86      0.87      0.86       600\n",
      "\n"
     ]
    }
   ],
   "source": [
    "matrix=classification_report(y_test,preds,labels=[1,0])\n",
    "print('Classification report: \\n',matrix)"
   ]
  },
  {
   "cell_type": "markdown",
   "id": "39598a25",
   "metadata": {},
   "source": [
    "# Create a function to preprocess and predict on test data"
   ]
  },
  {
   "cell_type": "markdown",
   "id": "5a1e1589",
   "metadata": {},
   "source": [
    "Above steps written in an efficient way looped under a function to directly give the test prediction results are preprocessing, feature reconciliation and fitting the Keras model"
   ]
  },
  {
   "cell_type": "code",
   "execution_count": 207,
   "id": "bae5e375",
   "metadata": {},
   "outputs": [],
   "source": [
    "def predict_test(test_data):\n",
    "    X_test_df=pd.DataFrame(preprocessor.fit_transform(X_test))\n",
    "    \n",
    "    cat_names=preprocessor.transformers_[1][1]['encoeder']\\\n",
    "    .get_feature_names(categorical_variables)\n",
    "    \n",
    "    ##Rename cat columns\n",
    "    for i,j in zip(range(5,18), range(len(cat_names))):\n",
    "        X_test_df=X_test_df.rename(columns={X_test_df.columns[i]:cat_names[j]})\n",
    "    \n",
    "    ##Rename numerical columns\n",
    "    for i,j in zip(range(0,5), range(len(numerical_variables))):\n",
    "        X_test_df=X_test_df.rename(columns={X_test_df.columns[i]:numerical_variables[j]})\n",
    "    \n",
    "    preds=grid.predict(X_test_df[selected_features])\n",
    "    matrix=classification_report(y_test,preds,labels=[1,0])\n",
    "    print('Classification report: \\n',matrix)"
   ]
  },
  {
   "cell_type": "code",
   "execution_count": 208,
   "id": "1f79acea",
   "metadata": {},
   "outputs": [
    {
     "name": "stdout",
     "output_type": "stream",
     "text": [
      "Classification report: \n",
      "               precision    recall  f1-score   support\n",
      "\n",
      "           1       0.76      0.46      0.57       424\n",
      "           0       0.87      0.96      0.91      1576\n",
      "\n",
      "   micro avg       0.85      0.85      0.85      2000\n",
      "   macro avg       0.81      0.71      0.74      2000\n",
      "weighted avg       0.85      0.85      0.84      2000\n",
      "\n"
     ]
    }
   ],
   "source": [
    "predict_test(X_test)"
   ]
  }
 ],
 "metadata": {
  "kernelspec": {
   "display_name": "Python 3 (ipykernel)",
   "language": "python",
   "name": "python3"
  },
  "language_info": {
   "codemirror_mode": {
    "name": "ipython",
    "version": 3
   },
   "file_extension": ".py",
   "mimetype": "text/x-python",
   "name": "python",
   "nbconvert_exporter": "python",
   "pygments_lexer": "ipython3",
   "version": "3.9.7"
  }
 },
 "nbformat": 4,
 "nbformat_minor": 5
}
